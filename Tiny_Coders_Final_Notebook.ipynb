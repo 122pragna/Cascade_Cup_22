{
 "cells": [
  {
   "cell_type": "markdown",
   "metadata": {
    "id": "YQHZNcsdMrsR"
   },
   "source": [
    "# Importing Data"
   ]
  },
  {
   "cell_type": "code",
   "execution_count": 1,
   "metadata": {
    "colab": {
     "base_uri": "https://localhost:8080/"
    },
    "id": "Dw1xlQI8bSDz",
    "outputId": "9c99a6d3-2e98-4784-a060-8b89b579eb5f"
   },
   "outputs": [
    {
     "name": "stdout",
     "output_type": "stream",
     "text": [
      "Drive already mounted at /content/drive; to attempt to forcibly remount, call drive.mount(\"/content/drive\", force_remount=True).\n"
     ]
    }
   ],
   "source": [
    "from google.colab import drive\n",
    "drive.mount('/content/drive')"
   ]
  },
  {
   "cell_type": "code",
   "execution_count": 9,
   "metadata": {
    "id": "3QaO5lnCn-UB"
   },
   "outputs": [],
   "source": [
    "import pandas as pd\n",
    "import numpy as np\n",
    "import matplotlib.pyplot as plt\n",
    "%matplotlib inline\n",
    "import seaborn as sns\n",
    "import warnings\n",
    "warnings.filterwarnings('ignore')\n",
    "\n",
    "from sklearn.model_selection import train_test_split\n",
    "import xgboost\n",
    "from xgboost import XGBClassifier\n",
    "from sklearn.metrics import roc_auc_score"
   ]
  },
  {
   "cell_type": "code",
   "execution_count": 3,
   "metadata": {
    "id": "MdOoHcDzoJPP"
   },
   "outputs": [],
   "source": [
    "data = pd.read_csv(\"train.csv\")"
   ]
  },
  {
   "cell_type": "code",
   "execution_count": 4,
   "metadata": {
    "id": "2bGqq0vyFxsc"
   },
   "outputs": [],
   "source": [
    "data.drop(['delivered_time','pickup_time','cancelled_time'],axis=1,inplace=True)"
   ]
  },
  {
   "cell_type": "code",
   "execution_count": 5,
   "metadata": {
    "colab": {
     "base_uri": "https://localhost:8080/"
    },
    "id": "YneF3uuX7kZN",
    "outputId": "b533092e-85f7-4b98-94e3-6a3753b9171a"
   },
   "outputs": [
    {
     "data": {
      "text/plain": [
       "(450000, 17)"
      ]
     },
     "execution_count": 5,
     "metadata": {},
     "output_type": "execute_result"
    }
   ],
   "source": [
    "data.shape"
   ]
  },
  {
   "cell_type": "markdown",
   "metadata": {
    "id": "W6Q_vobR0alT"
   },
   "source": [
    "# Transforming Features"
   ]
  },
  {
   "cell_type": "code",
   "execution_count": 6,
   "metadata": {
    "colab": {
     "base_uri": "https://localhost:8080/",
     "height": 0
    },
    "id": "jYuUBEyj6sjV",
    "outputId": "ce1665ae-adcd-4765-d59b-b9c7860fe5c8"
   },
   "outputs": [
    {
     "data": {
      "text/html": [
       "\n",
       "  <div id=\"df-e607d10c-3146-4843-a457-6d633cdedd2e\">\n",
       "    <div class=\"colab-df-container\">\n",
       "      <div>\n",
       "<style scoped>\n",
       "    .dataframe tbody tr th:only-of-type {\n",
       "        vertical-align: middle;\n",
       "    }\n",
       "\n",
       "    .dataframe tbody tr th {\n",
       "        vertical-align: top;\n",
       "    }\n",
       "\n",
       "    .dataframe thead th {\n",
       "        text-align: right;\n",
       "    }\n",
       "</style>\n",
       "<table border=\"1\" class=\"dataframe\">\n",
       "  <thead>\n",
       "    <tr style=\"text-align: right;\">\n",
       "      <th></th>\n",
       "      <th>order_id</th>\n",
       "      <th>rider_id</th>\n",
       "      <th>first_mile_distance</th>\n",
       "      <th>last_mile_distance</th>\n",
       "      <th>alloted_orders</th>\n",
       "      <th>delivered_orders</th>\n",
       "      <th>cancelled</th>\n",
       "      <th>undelivered_orders</th>\n",
       "      <th>lifetime_order_count</th>\n",
       "      <th>reassigned_order</th>\n",
       "      <th>session_time</th>\n",
       "    </tr>\n",
       "  </thead>\n",
       "  <tbody>\n",
       "    <tr>\n",
       "      <th>count</th>\n",
       "      <td>450000.000000</td>\n",
       "      <td>450000.000000</td>\n",
       "      <td>450000.000000</td>\n",
       "      <td>450000.000000</td>\n",
       "      <td>433052.000000</td>\n",
       "      <td>432659.000000</td>\n",
       "      <td>450000.000000</td>\n",
       "      <td>432659.000000</td>\n",
       "      <td>449947.000000</td>\n",
       "      <td>13753.0</td>\n",
       "      <td>446325.000000</td>\n",
       "    </tr>\n",
       "    <tr>\n",
       "      <th>mean</th>\n",
       "      <td>369143.080767</td>\n",
       "      <td>7763.244016</td>\n",
       "      <td>1.229889</td>\n",
       "      <td>2.968873</td>\n",
       "      <td>104.620909</td>\n",
       "      <td>103.950448</td>\n",
       "      <td>0.011596</td>\n",
       "      <td>0.764165</td>\n",
       "      <td>853.640664</td>\n",
       "      <td>1.0</td>\n",
       "      <td>220.474779</td>\n",
       "    </tr>\n",
       "    <tr>\n",
       "      <th>std</th>\n",
       "      <td>131146.906408</td>\n",
       "      <td>5592.880135</td>\n",
       "      <td>0.846183</td>\n",
       "      <td>1.884124</td>\n",
       "      <td>90.135492</td>\n",
       "      <td>89.639646</td>\n",
       "      <td>0.107057</td>\n",
       "      <td>1.066473</td>\n",
       "      <td>1502.976162</td>\n",
       "      <td>0.0</td>\n",
       "      <td>176.713853</td>\n",
       "    </tr>\n",
       "    <tr>\n",
       "      <th>min</th>\n",
       "      <td>118350.000000</td>\n",
       "      <td>0.000000</td>\n",
       "      <td>0.000134</td>\n",
       "      <td>0.000000</td>\n",
       "      <td>1.000000</td>\n",
       "      <td>1.000000</td>\n",
       "      <td>0.000000</td>\n",
       "      <td>0.000000</td>\n",
       "      <td>0.000000</td>\n",
       "      <td>1.0</td>\n",
       "      <td>0.000000</td>\n",
       "    </tr>\n",
       "    <tr>\n",
       "      <th>25%</th>\n",
       "      <td>257342.750000</td>\n",
       "      <td>2805.000000</td>\n",
       "      <td>0.539575</td>\n",
       "      <td>1.470000</td>\n",
       "      <td>36.000000</td>\n",
       "      <td>36.000000</td>\n",
       "      <td>0.000000</td>\n",
       "      <td>0.000000</td>\n",
       "      <td>165.000000</td>\n",
       "      <td>1.0</td>\n",
       "      <td>84.100000</td>\n",
       "    </tr>\n",
       "    <tr>\n",
       "      <th>50%</th>\n",
       "      <td>369842.500000</td>\n",
       "      <td>6754.000000</td>\n",
       "      <td>1.138700</td>\n",
       "      <td>2.670000</td>\n",
       "      <td>81.000000</td>\n",
       "      <td>81.000000</td>\n",
       "      <td>0.000000</td>\n",
       "      <td>0.000000</td>\n",
       "      <td>396.000000</td>\n",
       "      <td>1.0</td>\n",
       "      <td>175.550000</td>\n",
       "    </tr>\n",
       "    <tr>\n",
       "      <th>75%</th>\n",
       "      <td>482342.250000</td>\n",
       "      <td>11965.000000</td>\n",
       "      <td>1.853000</td>\n",
       "      <td>4.220000</td>\n",
       "      <td>147.000000</td>\n",
       "      <td>146.000000</td>\n",
       "      <td>0.000000</td>\n",
       "      <td>1.000000</td>\n",
       "      <td>948.000000</td>\n",
       "      <td>1.0</td>\n",
       "      <td>316.766667</td>\n",
       "    </tr>\n",
       "    <tr>\n",
       "      <th>max</th>\n",
       "      <td>594842.000000</td>\n",
       "      <td>21566.000000</td>\n",
       "      <td>42.038100</td>\n",
       "      <td>22.410000</td>\n",
       "      <td>567.000000</td>\n",
       "      <td>562.000000</td>\n",
       "      <td>1.000000</td>\n",
       "      <td>9.000000</td>\n",
       "      <td>30469.000000</td>\n",
       "      <td>1.0</td>\n",
       "      <td>1298.966667</td>\n",
       "    </tr>\n",
       "  </tbody>\n",
       "</table>\n",
       "</div>\n",
       "      <button class=\"colab-df-convert\" onclick=\"convertToInteractive('df-e607d10c-3146-4843-a457-6d633cdedd2e')\"\n",
       "              title=\"Convert this dataframe to an interactive table.\"\n",
       "              style=\"display:none;\">\n",
       "        \n",
       "  <svg xmlns=\"http://www.w3.org/2000/svg\" height=\"24px\"viewBox=\"0 0 24 24\"\n",
       "       width=\"24px\">\n",
       "    <path d=\"M0 0h24v24H0V0z\" fill=\"none\"/>\n",
       "    <path d=\"M18.56 5.44l.94 2.06.94-2.06 2.06-.94-2.06-.94-.94-2.06-.94 2.06-2.06.94zm-11 1L8.5 8.5l.94-2.06 2.06-.94-2.06-.94L8.5 2.5l-.94 2.06-2.06.94zm10 10l.94 2.06.94-2.06 2.06-.94-2.06-.94-.94-2.06-.94 2.06-2.06.94z\"/><path d=\"M17.41 7.96l-1.37-1.37c-.4-.4-.92-.59-1.43-.59-.52 0-1.04.2-1.43.59L10.3 9.45l-7.72 7.72c-.78.78-.78 2.05 0 2.83L4 21.41c.39.39.9.59 1.41.59.51 0 1.02-.2 1.41-.59l7.78-7.78 2.81-2.81c.8-.78.8-2.07 0-2.86zM5.41 20L4 18.59l7.72-7.72 1.47 1.35L5.41 20z\"/>\n",
       "  </svg>\n",
       "      </button>\n",
       "      \n",
       "  <style>\n",
       "    .colab-df-container {\n",
       "      display:flex;\n",
       "      flex-wrap:wrap;\n",
       "      gap: 12px;\n",
       "    }\n",
       "\n",
       "    .colab-df-convert {\n",
       "      background-color: #E8F0FE;\n",
       "      border: none;\n",
       "      border-radius: 50%;\n",
       "      cursor: pointer;\n",
       "      display: none;\n",
       "      fill: #1967D2;\n",
       "      height: 32px;\n",
       "      padding: 0 0 0 0;\n",
       "      width: 32px;\n",
       "    }\n",
       "\n",
       "    .colab-df-convert:hover {\n",
       "      background-color: #E2EBFA;\n",
       "      box-shadow: 0px 1px 2px rgba(60, 64, 67, 0.3), 0px 1px 3px 1px rgba(60, 64, 67, 0.15);\n",
       "      fill: #174EA6;\n",
       "    }\n",
       "\n",
       "    [theme=dark] .colab-df-convert {\n",
       "      background-color: #3B4455;\n",
       "      fill: #D2E3FC;\n",
       "    }\n",
       "\n",
       "    [theme=dark] .colab-df-convert:hover {\n",
       "      background-color: #434B5C;\n",
       "      box-shadow: 0px 1px 3px 1px rgba(0, 0, 0, 0.15);\n",
       "      filter: drop-shadow(0px 1px 2px rgba(0, 0, 0, 0.3));\n",
       "      fill: #FFFFFF;\n",
       "    }\n",
       "  </style>\n",
       "\n",
       "      <script>\n",
       "        const buttonEl =\n",
       "          document.querySelector('#df-e607d10c-3146-4843-a457-6d633cdedd2e button.colab-df-convert');\n",
       "        buttonEl.style.display =\n",
       "          google.colab.kernel.accessAllowed ? 'block' : 'none';\n",
       "\n",
       "        async function convertToInteractive(key) {\n",
       "          const element = document.querySelector('#df-e607d10c-3146-4843-a457-6d633cdedd2e');\n",
       "          const dataTable =\n",
       "            await google.colab.kernel.invokeFunction('convertToInteractive',\n",
       "                                                     [key], {});\n",
       "          if (!dataTable) return;\n",
       "\n",
       "          const docLinkHtml = 'Like what you see? Visit the ' +\n",
       "            '<a target=\"_blank\" href=https://colab.research.google.com/notebooks/data_table.ipynb>data table notebook</a>'\n",
       "            + ' to learn more about interactive tables.';\n",
       "          element.innerHTML = '';\n",
       "          dataTable['output_type'] = 'display_data';\n",
       "          await google.colab.output.renderOutput(dataTable, element);\n",
       "          const docLink = document.createElement('div');\n",
       "          docLink.innerHTML = docLinkHtml;\n",
       "          element.appendChild(docLink);\n",
       "        }\n",
       "      </script>\n",
       "    </div>\n",
       "  </div>\n",
       "  "
      ],
      "text/plain": [
       "            order_id       rider_id  ...  reassigned_order   session_time\n",
       "count  450000.000000  450000.000000  ...           13753.0  446325.000000\n",
       "mean   369143.080767    7763.244016  ...               1.0     220.474779\n",
       "std    131146.906408    5592.880135  ...               0.0     176.713853\n",
       "min    118350.000000       0.000000  ...               1.0       0.000000\n",
       "25%    257342.750000    2805.000000  ...               1.0      84.100000\n",
       "50%    369842.500000    6754.000000  ...               1.0     175.550000\n",
       "75%    482342.250000   11965.000000  ...               1.0     316.766667\n",
       "max    594842.000000   21566.000000  ...               1.0    1298.966667\n",
       "\n",
       "[8 rows x 11 columns]"
      ]
     },
     "execution_count": 6,
     "metadata": {},
     "output_type": "execute_result"
    }
   ],
   "source": [
    "data.describe()"
   ]
  },
  {
   "cell_type": "code",
   "execution_count": 7,
   "metadata": {
    "colab": {
     "base_uri": "https://localhost:8080/",
     "height": 0
    },
    "id": "DRE2LNA66Std",
    "outputId": "5ad6c42c-2e50-4849-95a3-b91820023ecd"
   },
   "outputs": [
    {
     "data": {
      "text/plain": [
       "<matplotlib.axes._subplots.AxesSubplot at 0x7f0fe3532fd0>"
      ]
     },
     "execution_count": 7,
     "metadata": {},
     "output_type": "execute_result"
    },
    {
     "data": {
      "image/png": "[encoded data removed]",
      "text/plain": [
       "<Figure size 1440x360 with 3 Axes>"
      ]
     },
     "metadata": {
      "needs_background": "light"
     },
     "output_type": "display_data"
    }
   ],
   "source": [
    "plt.figure(figsize=(20,5))\n",
    "\n",
    "plt.subplot(1, 3, 1)\n",
    "data['first_mile_distance'].hist()\n",
    "\n",
    "plt.subplot(1, 3, 2)\n",
    "np.sqrt(data['first_mile_distance']).hist()\n",
    "\n",
    "plt.subplot(1, 3, 3)\n",
    "np.log(data['first_mile_distance']+2).hist()"
   ]
  },
  {
   "cell_type": "code",
   "execution_count": 8,
   "metadata": {
    "colab": {
     "base_uri": "https://localhost:8080/",
     "height": 0
    },
    "id": "BCYbuRbq6Tut",
    "outputId": "cda722fd-8df3-4000-ea6e-b7f02365d241"
   },
   "outputs": [
    {
     "data": {
      "image/png": "[encoded data removed]",
      "text/plain": [
       "<Figure size 1440x360 with 3 Axes>"
      ]
     },
     "metadata": {
      "needs_background": "light"
     },
     "output_type": "display_data"
    }
   ],
   "source": [
    "plt.figure(figsize=(20,5))\n",
    "\n",
    "plt.subplot(1, 3, 1)\n",
    "data['last_mile_distance'].hist()\n",
    "\n",
    "plt.subplot(1, 3, 2)\n",
    "np.sqrt(data['last_mile_distance']).hist()\n",
    "\n",
    "plt.subplot(1, 3, 3)\n",
    "np.log(data['last_mile_distance']+5).hist();"
   ]
  },
  {
   "cell_type": "code",
   "execution_count": 9,
   "metadata": {
    "colab": {
     "base_uri": "https://localhost:8080/",
     "height": 0
    },
    "id": "MiqiaUmR6Xhq",
    "outputId": "84b85afe-012e-4e32-f24b-18251fabcb81"
   },
   "outputs": [
    {
     "data": {
      "image/png": "[encoded data removed]",
      "text/plain": [
       "<Figure size 1440x360 with 3 Axes>"
      ]
     },
     "metadata": {
      "needs_background": "light"
     },
     "output_type": "display_data"
    }
   ],
   "source": [
    "plt.figure(figsize=(20,5))\n",
    "\n",
    "plt.subplot(1, 3, 1)\n",
    "data['session_time'].hist()\n",
    "\n",
    "plt.subplot(1, 3, 2)\n",
    "np.sqrt(data['session_time']).hist()\n",
    "\n",
    "plt.subplot(1, 3, 3)\n",
    "np.log(data['session_time']+75).hist();"
   ]
  },
  {
   "cell_type": "code",
   "execution_count": 10,
   "metadata": {
    "colab": {
     "base_uri": "https://localhost:8080/",
     "height": 0
    },
    "id": "YM4DoQ1M6bgI",
    "outputId": "d48065d0-fe60-43d8-9896-9250acc65312"
   },
   "outputs": [
    {
     "data": {
      "image/png": "[encoded data removed]",
      "text/plain": [
       "<Figure size 1440x360 with 3 Axes>"
      ]
     },
     "metadata": {
      "needs_background": "light"
     },
     "output_type": "display_data"
    }
   ],
   "source": [
    "plt.figure(figsize=(20,5))\n",
    "\n",
    "plt.subplot(1, 3, 1)\n",
    "data['alloted_orders'].hist()\n",
    "\n",
    "plt.subplot(1, 3, 2)\n",
    "np.sqrt(data['alloted_orders']).hist()\n",
    "\n",
    "plt.subplot(1, 3, 3)\n",
    "np.log(data['alloted_orders']+10).hist();"
   ]
  },
  {
   "cell_type": "code",
   "execution_count": 11,
   "metadata": {
    "colab": {
     "base_uri": "https://localhost:8080/",
     "height": 0
    },
    "id": "x_PMCyZB6d4R",
    "outputId": "7d47b1ec-c1e2-4c59-e13a-300385dc90cb"
   },
   "outputs": [
    {
     "data": {
      "image/png": "[encoded data removed]",
      "text/plain": [
       "<Figure size 1440x360 with 3 Axes>"
      ]
     },
     "metadata": {
      "needs_background": "light"
     },
     "output_type": "display_data"
    }
   ],
   "source": [
    "plt.figure(figsize=(20,5))\n",
    "\n",
    "plt.subplot(1, 3, 1)\n",
    "data['delivered_orders'].hist()\n",
    "\n",
    "plt.subplot(1, 3, 2)\n",
    "np.sqrt(data['delivered_orders']).hist()\n",
    "\n",
    "plt.subplot(1, 3, 3)\n",
    "np.log(data['delivered_orders']+10).hist();"
   ]
  },
  {
   "cell_type": "code",
   "execution_count": 12,
   "metadata": {
    "colab": {
     "base_uri": "https://localhost:8080/",
     "height": 0
    },
    "id": "V5oGEjDi6ewA",
    "outputId": "167ca90e-775b-42e0-9e85-08e340f30ab2"
   },
   "outputs": [
    {
     "data": {
      "image/png": "[encoded data removed]",
      "text/plain": [
       "<Figure size 1440x360 with 3 Axes>"
      ]
     },
     "metadata": {
      "needs_background": "light"
     },
     "output_type": "display_data"
    }
   ],
   "source": [
    "plt.figure(figsize=(20,5))\n",
    "\n",
    "plt.subplot(1, 3, 1)\n",
    "data['lifetime_order_count'].hist()\n",
    "\n",
    "plt.subplot(1, 3, 2)\n",
    "np.sqrt(data['lifetime_order_count']).hist()\n",
    "\n",
    "plt.subplot(1, 3, 3)\n",
    "np.log(data['lifetime_order_count']+70).hist();"
   ]
  },
  {
   "cell_type": "code",
   "execution_count": 13,
   "metadata": {
    "id": "gSmT0VTZfR13"
   },
   "outputs": [],
   "source": [
    "# Transforming features for Normal Distribution\n",
    "\n",
    "data['first_mile_distance'] = np.log(data['first_mile_distance']+2)\n",
    "data['last_mile_distance'] = np.log(data['last_mile_distance']+5)\n",
    "data['session_time'] = np.sqrt(data['session_time'])\n",
    "data['alloted_orders'] = np.sqrt(data['alloted_orders'])\n",
    "data['delivered_orders'] = np.sqrt(data['delivered_orders'])\n",
    "data['lifetime_order_count'] = np.log(data['lifetime_order_count']+70)"
   ]
  },
  {
   "cell_type": "code",
   "execution_count": 14,
   "metadata": {
    "colab": {
     "base_uri": "https://localhost:8080/",
     "height": 0
    },
    "id": "W8OG1U3i6mFe",
    "outputId": "7f843fd0-79b3-4d03-9c6c-c1e5d1033263"
   },
   "outputs": [
    {
     "data": {
      "image/png": "[encoded data removed]",
      "text/plain": [
       "<Figure size 1440x720 with 6 Axes>"
      ]
     },
     "metadata": {
      "needs_background": "light"
     },
     "output_type": "display_data"
    }
   ],
   "source": [
    "plt.figure(figsize=(20,10))\n",
    "\n",
    "plt.subplot(2, 3, 1)\n",
    "data['first_mile_distance'].hist()\n",
    "\n",
    "plt.subplot(2, 3, 2)\n",
    "data['last_mile_distance'].hist()\n",
    "\n",
    "plt.subplot(2, 3, 3)\n",
    "data['session_time'].hist();\n",
    "\n",
    "plt.subplot(2, 3, 4)\n",
    "data['alloted_orders'].hist()\n",
    "\n",
    "plt.subplot(2, 3, 5)\n",
    "data['delivered_orders'].hist()\n",
    "\n",
    "plt.subplot(2, 3, 6)\n",
    "data['lifetime_order_count'].hist();"
   ]
  },
  {
   "cell_type": "markdown",
   "metadata": {
    "id": "XPwfSZBEJqfB"
   },
   "source": [
    "# Date Time Columns"
   ]
  },
  {
   "cell_type": "code",
   "execution_count": 15,
   "metadata": {
    "id": "GYHY7BGTJxBk"
   },
   "outputs": [],
   "source": [
    "data['accept_time'] = pd.to_datetime(data['accept_time'])\n",
    "data['order_time'] = pd.to_datetime(data['order_time'])\n",
    "data['allot_time'] = pd.to_datetime(data['allot_time'])\n",
    "\n",
    "data['order_time_hour'] = data['order_time'].dt.hour\n",
    "data['day'] = data['order_time'].dt.dayofweek\n",
    "\n",
    "data['Time_delay_to_accept_order'] = data['accept_time'] - data['order_time']\n",
    "seconds = data['Time_delay_to_accept_order'].apply(lambda x : x.total_seconds())\n",
    "data['Time_delay_to_accept_order_in_minutes'] = (seconds % 3600) // 60"
   ]
  },
  {
   "cell_type": "code",
   "execution_count": 16,
   "metadata": {
    "id": "_IO3wunIJ_RA"
   },
   "outputs": [],
   "source": [
    "indices = data[data['accept_time'].isnull() == True].index\n",
    "\n",
    "data['Order_Acceptance'] = np.nan\n",
    "\n",
    "for i in indices :\n",
    "  data['Order_Acceptance'][i] = 0\n",
    "\n",
    "data['Order_Acceptance'] = data['Order_Acceptance'].fillna(1)"
   ]
  },
  {
   "cell_type": "markdown",
   "metadata": {
    "id": "nSSBgbB68KMo"
   },
   "source": [
    "# Dealing with Null Values"
   ]
  },
  {
   "cell_type": "code",
   "execution_count": 17,
   "metadata": {
    "id": "n9prh7bf8OU5"
   },
   "outputs": [],
   "source": [
    "data['session_time'] = data['session_time'].fillna(data['session_time'].mean())\n",
    "\n",
    "data['Time_delay_to_accept_order_in_minutes'] = data['Time_delay_to_accept_order_in_minutes'].fillna(999)\n",
    "\n",
    "data['lifetime_order_count'] = data['lifetime_order_count'].fillna(data['lifetime_order_count'].groupby(by=data['rider_id']).max())\n",
    "data['lifetime_order_count'] = data['lifetime_order_count'].fillna(0)\n",
    "\n",
    "data['alloted_orders'] = data['alloted_orders'].fillna(data['alloted_orders'].groupby(by=data['rider_id']).mean())\n",
    "data['alloted_orders'] = data['alloted_orders'].fillna(0)\n",
    "\n",
    "data['delivered_orders'] = data['delivered_orders'].fillna(data['delivered_orders'].groupby(by=data['rider_id']).mean())\n",
    "data['delivered_orders'] = data['delivered_orders'].fillna(0)\n",
    "\n",
    "data['undelivered_orders'] = data['undelivered_orders'].fillna(data['undelivered_orders'].groupby(by=data['rider_id']).mean())\n",
    "data['undelivered_orders'] = data['undelivered_orders'].fillna(0)\n",
    "\n",
    "data['reassignment_method']  = data['reassignment_method'].fillna('No value')\n",
    "data['reassignment_reason'] = data['reassignment_reason'].fillna('No value') \n",
    "data['reassigned_order'] = data['reassigned_order'].fillna(0)"
   ]
  },
  {
   "cell_type": "markdown",
   "metadata": {
    "id": "7K1Rs04j7cJG"
   },
   "source": [
    "# Feature Engineering"
   ]
  },
  {
   "cell_type": "code",
   "execution_count": null,
   "metadata": {
    "id": "vgrB1p0p8JXX"
   },
   "outputs": [],
   "source": [
    "k = data[['undelivered_orders']].groupby(data['rider_id']).max()\n",
    "l = k[k['undelivered_orders']>0].index\n",
    "data['undelivered'] = np.nan\n",
    "\n",
    "for i in range(450000) :\n",
    "  if data['rider_id'][i] in l :\n",
    "    data['undelivered'][i] = 1\n",
    "  else :\n",
    "    data['undelivered'][i] = 0\n",
    "\n",
    "\n",
    "k1 = data[['delivered_orders']].groupby(data['rider_id']).max()\n",
    "l1 = k1[k1['delivered_orders']>0].index\n",
    "data['delivered'] = np.nan\n",
    "\n",
    "for i in range(450000) :\n",
    "  if data['rider_id'][i] in l1 :\n",
    "    data['delivered'][i] = 0\n",
    "  else :\n",
    "    data['delivered'][i] = 1"
   ]
  },
  {
   "cell_type": "code",
   "execution_count": null,
   "metadata": {
    "id": "cRX9TrkxKRjS"
   },
   "outputs": [],
   "source": [
    "data['orders_ratio'] = np.sqrt(data['undelivered_orders']/data['delivered_orders'])\n",
    "data['orders_efficiency'] = np.sqrt(data['delivered_orders']/data['alloted_orders'])\n",
    "\n",
    "data['orders_ratio'] = data['orders_ratio'].fillna(0)\n",
    "data['orders_efficiency'] = data['orders_efficiency'].fillna(0)"
   ]
  },
  {
   "cell_type": "code",
   "execution_count": null,
   "metadata": {
    "id": "CyllJg0n8x9J"
   },
   "outputs": [],
   "source": [
    "data['Day_Type'] = np.nan\n",
    "\n",
    "for i in range(450000) :\n",
    "  if data['order_time_hour'][i] in {4,5,6,7} :\n",
    "    data['Day_Type'][i] = 'Early_Morning'\n",
    "\n",
    "  elif data['order_time_hour'][i] in {8,9,10,11} :\n",
    "    data['Day_Type'][i] = 'Morning'\n",
    "\n",
    "  elif data['order_time_hour'][i] in {12,13,14,15} :\n",
    "    data['Day_Type'][i] = 'Afternoon'\n",
    "\n",
    "  elif data['order_time_hour'][i] in {16,17,18,19} :\n",
    "    data['Day_Type'][i] = 'Evening'\n",
    "\n",
    "  elif data['order_time_hour'][i] in {20,21,22,23} :\n",
    "    data['Day_Type'][i] = 'Night'\n",
    "\n",
    "  else :\n",
    "     data['Day_Type'][i] = 'Mid-Night'"
   ]
  },
  {
   "cell_type": "code",
   "execution_count": null,
   "metadata": {
    "id": "24OKWTry9L-i"
   },
   "outputs": [],
   "source": [
    "data['mile_ratio'] = data['first_mile_distance']/data['last_mile_distance']\n",
    "data['mile_distance'] = np.abs(data['last_mile_distance'] - data['first_mile_distance'])\n",
    "data['distance'] = (data['first_mile_distance'] + data['last_mile_distance'])**2"
   ]
  },
  {
   "cell_type": "code",
   "execution_count": null,
   "metadata": {
    "id": "KbKwK0cSBkbL"
   },
   "outputs": [],
   "source": [
    "data['orders_fewer'] = (data['lifetime_order_count'] - data['alloted_orders'])**2\n",
    "data['orders'] = (data['alloted_orders'] + data['delivered_orders'] + data['undelivered_orders'])**2\n",
    "data['orders_multiply'] = data['alloted_orders']*data['delivered_orders']"
   ]
  },
  {
   "cell_type": "markdown",
   "metadata": {
    "id": "OP3PhJrvfZGI"
   },
   "source": [
    "#X and y"
   ]
  },
  {
   "cell_type": "code",
   "execution_count": null,
   "metadata": {
    "id": "vidfAdPiGOyC"
   },
   "outputs": [],
   "source": [
    "corr= data.corr()\n",
    "matrix = np.triu(corr)\n",
    "plt.figure(figsize=(20,10))\n",
    "sns.heatmap(corr, annot=True, mask=matrix, cmap=\"YlGnBu\");"
   ]
  },
  {
   "cell_type": "code",
   "execution_count": null,
   "metadata": {
    "id": "zMGU3QN6DPv8"
   },
   "outputs": [],
   "source": [
    "X = data[['rider_id', 'first_mile_distance', 'last_mile_distance','alloted_orders', 'delivered_orders', 'undelivered_orders','lifetime_order_count',\n",
    "        'reassignment_method', 'reassignment_reason','reassigned_order', 'session_time', 'order_time_hour','Time_delay_to_accept_order_in_minutes','day','mile_distance', \n",
    "       'Order_Acceptance',  'undelivered', 'delivered', 'mile_ratio',  'orders_ratio', 'orders_efficiency', 'Day_Type','orders_fewer', 'orders','distance', 'orders_multiply']]\n",
    "\n",
    "y = data['cancelled']"
   ]
  },
  {
   "cell_type": "code",
   "execution_count": null,
   "metadata": {
    "id": "Jm5TmkyuDfcz"
   },
   "outputs": [],
   "source": [
    "X.shape"
   ]
  },
  {
   "cell_type": "code",
   "execution_count": null,
   "metadata": {
    "id": "G2PyH9APC6JK"
   },
   "outputs": [],
   "source": [
    "X_copy = pd.get_dummies(X)"
   ]
  },
  {
   "cell_type": "code",
   "execution_count": null,
   "metadata": {
    "id": "UcsAcl7qbeFa"
   },
   "outputs": [],
   "source": [
    "X_train,X_test,y_train,y_test = train_test_split(X_copy,y,test_size=0.2,random_state=0)"
   ]
  },
  {
   "cell_type": "markdown",
   "metadata": {
    "id": "6U401R9l0JYy"
   },
   "source": [
    "# XGB Classifier"
   ]
  },
  {
   "cell_type": "code",
   "execution_count": null,
   "metadata": {
    "id": "-nMjNdPWIhx7"
   },
   "outputs": [],
   "source": [
    "# model = XGBClassifier(n_estimators=350,scale_pos_weight=0.9)\n",
    "# model.fit(X_train,y_train)\n",
    "# y_pred = model.predict_proba(X_train)\n",
    "# y_pred1 = model.predict_proba(X_test)\n",
    "# print(roc_auc_score(y_train,y_pred[:,1]) , roc_auc_score(y_test,y_pred1[:,1]))"
   ]
  },
  {
   "cell_type": "code",
   "execution_count": null,
   "metadata": {
    "id": "2NvoZ3gRXgTW"
   },
   "outputs": [],
   "source": [
    "# 0.8910214894800674 0.856234058958678"
   ]
  },
  {
   "cell_type": "code",
   "execution_count": null,
   "metadata": {
    "id": "_nfB44JmLdmT"
   },
   "outputs": [],
   "source": [
    "model = XGBClassifier(n_estimators=350,scale_pos_weight=0.9)\n",
    "model.fit(X_copy,y)"
   ]
  },
  {
   "cell_type": "markdown",
   "metadata": {
    "id": "sM1s1oaYJWtB"
   },
   "source": [
    "# test"
   ]
  },
  {
   "cell_type": "code",
   "execution_count": null,
   "metadata": {
    "id": "JQ-h9jIrFJt5"
   },
   "outputs": [],
   "source": [
    "test = pd.read_csv(\"test.csv\")"
   ]
  },
  {
   "cell_type": "code",
   "execution_count": null,
   "metadata": {
    "id": "FhBCwALCVkag"
   },
   "outputs": [],
   "source": [
    "# Feature Transformation\n",
    "\n",
    "test['first_mile_distance'] = np.log(test['first_mile_distance']+2)\n",
    "test['last_mile_distance'] = np.log(test['last_mile_distance']+5)\n",
    "test['session_time'] = np.sqrt(test['session_time'])\n",
    "test['alloted_orders'] = np.sqrt(test['alloted_orders'])\n",
    "test['delivered_orders'] = np.sqrt(test['delivered_orders'])\n",
    "test['lifetime_order_count'] = np.log(test['lifetime_order_count']+70)"
   ]
  },
  {
   "cell_type": "code",
   "execution_count": null,
   "metadata": {
    "id": "f2msfGWfNDKR"
   },
   "outputs": [],
   "source": [
    "# Date Time Columns\n",
    "\n",
    "test['accept_time'] = pd.to_datetime(test['accept_time'])\n",
    "test['order_time'] = pd.to_datetime(test['order_time'])\n",
    "test['allot_time'] = pd.to_datetime(test['allot_time'])\n",
    "\n",
    "test['order_time_hour'] = test['order_time'].dt.hour\n",
    "test['day'] = test['order_time'].dt.dayofweek\n",
    "\n",
    "test['Time_delay_to_accept_order'] = test['accept_time'] - test['order_time']\n",
    "second = test['Time_delay_to_accept_order'].apply(lambda x : x.total_seconds())\n",
    "test['Time_delay_to_accept_order_in_minutes'] = (second % 3600) // 60\n",
    "\n",
    "\n",
    "indices_test = test[test['accept_time'].isnull() == True].index\n",
    "\n",
    "test['Order_Acceptance'] = np.nan\n",
    "\n",
    "for i in indices_test :\n",
    "  test['Order_Acceptance'][i] = 0\n",
    "\n",
    "test['Order_Acceptance'] = test['Order_Acceptance'].fillna(1)"
   ]
  },
  {
   "cell_type": "code",
   "execution_count": null,
   "metadata": {
    "id": "4-zqjKL9NIK4"
   },
   "outputs": [],
   "source": [
    "# Null Values\n",
    "\n",
    "test['session_time'] = test['session_time'].fillna(test['session_time'].mean())\n",
    "\n",
    "test['Time_delay_to_accept_order_in_minutes'] = test['Time_delay_to_accept_order_in_minutes'].fillna(999)\n",
    "\n",
    "test['lifetime_order_count'] = test['lifetime_order_count'].fillna(test['lifetime_order_count'].groupby(by=test['rider_id']).max())\n",
    "test['lifetime_order_count'] = test['lifetime_order_count'].fillna(0)\n",
    "\n",
    "test['alloted_orders'] = test['alloted_orders'].fillna(test['alloted_orders'].groupby(by=test['rider_id']).mean())\n",
    "test['alloted_orders'] = test['alloted_orders'].fillna(0)\n",
    "\n",
    "test['delivered_orders'] = test['delivered_orders'].fillna(test['delivered_orders'].groupby(by=test['rider_id']).mean())\n",
    "test['delivered_orders'] = test['delivered_orders'].fillna(0)\n",
    "\n",
    "test['undelivered_orders'] = test['undelivered_orders'].fillna(test['undelivered_orders'].groupby(by=test['rider_id']).mean())\n",
    "test['undelivered_orders'] = test['undelivered_orders'].fillna(0)\n",
    "\n",
    "test['reassignment_method']  = test['reassignment_method'].fillna('No value')\n",
    "test['reassignment_reason'] = test['reassignment_reason'].fillna('No value') \n",
    "test['reassigned_order'] = test['reassigned_order'].fillna(0)"
   ]
  },
  {
   "cell_type": "code",
   "execution_count": null,
   "metadata": {
    "id": "ZVM0ghvRNRRw"
   },
   "outputs": [],
   "source": [
    "# Feature Engineering\n",
    "\n",
    "k2 = test[['undelivered_orders']].groupby(test['rider_id']).max()\n",
    "l2 = k2[k2['undelivered_orders']>0].index\n",
    "test['undelivered'] = np.nan\n",
    "\n",
    "for i in range(144844) :\n",
    "  if test['rider_id'][i] in l2 :\n",
    "    test['undelivered'][i] = 1\n",
    "  else :\n",
    "    test['undelivered'][i] = 0\n",
    "\n",
    "\n",
    "k3 = test[['delivered_orders']].groupby(test['rider_id']).max()\n",
    "l3 = k3[k3['delivered_orders']>0].index\n",
    "test['delivered'] = np.nan\n",
    "\n",
    "for i in range(144844) :\n",
    "  if test['rider_id'][i] in l3 :\n",
    "    test['delivered'][i] = 0\n",
    "  else :\n",
    "    test['delivered'][i] = 1\n",
    "\n",
    "\n",
    "test['orders_ratio'] = np.sqrt(test['undelivered_orders']/test['delivered_orders'])\n",
    "test['orders_efficiency'] = np.sqrt(test['delivered_orders']/test['alloted_orders'])\n",
    "test['orders_ratio'] = test['orders_ratio'].fillna(0)\n",
    "test['orders_efficiency'] = test['orders_efficiency'].fillna(0)\n",
    "\n",
    "\n",
    "test['Day_Type'] = np.nan\n",
    "\n",
    "for i in range(144844) :\n",
    "  if test['order_time_hour'][i] in {4,5,6,7} :\n",
    "    test['Day_Type'][i] = 'Early_Morning'\n",
    "\n",
    "  elif test['order_time_hour'][i] in {8,9,10,11} :\n",
    "    test['Day_Type'][i] = 'Morning'\n",
    "\n",
    "  elif test['order_time_hour'][i] in {12,13,14,15} :\n",
    "    test['Day_Type'][i] = 'Afternoon'\n",
    "\n",
    "  elif test['order_time_hour'][i] in {16,17,18,19} :\n",
    "    test['Day_Type'][i] = 'Evening'\n",
    "\n",
    "  elif test['order_time_hour'][i] in {20,21,22,23} :\n",
    "    test['Day_Type'][i] = 'Night'\n",
    "\n",
    "  else :\n",
    "     test['Day_Type'][i] = 'Mid-Night'\n",
    "\n",
    "\n",
    "test['mile_ratio'] = test['first_mile_distance']/test['last_mile_distance']\n",
    "test['mile_distance'] = np.abs(test['last_mile_distance'] - test['first_mile_distance'])\n",
    "test['distance'] = (test['first_mile_distance'] + test['last_mile_distance'])**2\n",
    "\n",
    "test['orders_fewer'] = (test['lifetime_order_count'] - test['alloted_orders'])**2\n",
    "test['orders'] = (test['alloted_orders'] + test['delivered_orders'] + test['undelivered_orders'])**2\n",
    "test['orders_multiply'] = test['alloted_orders']*test['delivered_orders']"
   ]
  },
  {
   "cell_type": "code",
   "execution_count": null,
   "metadata": {
    "id": "QwK636wcjoHy"
   },
   "outputs": [],
   "source": [
    "df = test[['rider_id', 'first_mile_distance', 'last_mile_distance','alloted_orders', 'delivered_orders', 'undelivered_orders','lifetime_order_count',\n",
    "        'reassignment_method', 'reassignment_reason','reassigned_order', 'session_time', 'order_time_hour','Time_delay_to_accept_order_in_minutes','day','mile_distance', \n",
    "       'Order_Acceptance',  'undelivered', 'delivered', 'mile_ratio',  'orders_ratio', 'orders_efficiency', 'Day_Type','orders_fewer', 'orders','distance', 'orders_multiply']]\n",
    "\n",
    "test_copy = pd.get_dummies(df)"
   ]
  },
  {
   "cell_type": "code",
   "execution_count": null,
   "metadata": {
    "id": "5cMp4fo8GMrP"
   },
   "outputs": [],
   "source": [
    "preds = model.predict_proba(test_copy)"
   ]
  },
  {
   "cell_type": "code",
   "execution_count": null,
   "metadata": {
    "id": "7KVDYs7YFpX7"
   },
   "outputs": [],
   "source": [
    "submission = pd.DataFrame(columns=['order_id','cancelled']) \n",
    "submission['order_id'] = test['order_id']\n",
    "submission['cancelled'] = preds[:,1]"
   ]
  },
  {
   "cell_type": "code",
   "execution_count": null,
   "metadata": {
    "id": "MT7haby_oojm"
   },
   "outputs": [],
   "source": [
    "submission.head()"
   ]
  },
  {
   "cell_type": "code",
   "execution_count": null,
   "metadata": {
    "id": "vfATPVY3F8gk"
   },
   "outputs": [],
   "source": [
    "submission.shape"
   ]
  },
  {
   "cell_type": "code",
   "execution_count": null,
   "metadata": {
    "id": "vuPzUdZYLzOc"
   },
   "outputs": [],
   "source": [
    "submission.to_csv(\"submission.csv\",index = False)"
   ]
  },
  {
   "cell_type": "code",
   "execution_count": null,
   "metadata": {
    "id": "P9FB3bNHaawA"
   },
   "outputs": [],
   "source": []
  }
 ],
 "metadata": {
  "colab": {
   "collapsed_sections": [
    "YQHZNcsdMrsR",
    "W6Q_vobR0alT",
    "XPwfSZBEJqfB",
    "nSSBgbB68KMo",
    "7K1Rs04j7cJG",
    "OP3PhJrvfZGI",
    "6U401R9l0JYy",
    "sM1s1oaYJWtB"
   ],
   "name": "Tiny_Coders_Final_Notebook.ipynb",
   "provenance": []
  },
  "kernelspec": {
   "display_name": "Python 3 (ipykernel)",
   "language": "python",
   "name": "python3"
  },
  "language_info": {
   "codemirror_mode": {
    "name": "ipython",
    "version": 3
   },
   "file_extension": ".py",
   "mimetype": "text/x-python",
   "name": "python",
   "nbconvert_exporter": "python",
   "pygments_lexer": "ipython3",
   "version": "3.7.4"
  }
 },
 "nbformat": 4,
 "nbformat_minor": 1
}
